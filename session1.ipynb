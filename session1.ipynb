{
 "cells": [
  {
   "cell_type": "code",
   "execution_count": null,
   "metadata": {},
   "outputs": [],
   "source": [
    "import random\n",
    "from math import *\n"
   ]
  },
  {
   "attachments": {},
   "cell_type": "markdown",
   "metadata": {},
   "source": [
    "# 1 Travail prépapratoire : codage numérique du texte clair"
   ]
  },
  {
   "attachments": {},
   "cell_type": "markdown",
   "metadata": {},
   "source": [
    "## 1."
   ]
  },
  {
   "cell_type": "code",
   "execution_count": null,
   "metadata": {},
   "outputs": [],
   "source": [
    "alphabet = \"\\n abcdefghijklmnopqrstuvwxyzABCDEFGHIJKLMNOPQRSTUVWXYZ.;:,!?'àâäéèêëîïôöùûüç()[]{}|\\°@%&§#$£_+-*/^=><0123456789\"\n"
   ]
  },
  {
   "cell_type": "code",
   "execution_count": null,
   "metadata": {},
   "outputs": [],
   "source": [
    "alphabet[0]\n"
   ]
  },
  {
   "cell_type": "code",
   "execution_count": null,
   "metadata": {},
   "outputs": [],
   "source": [
    "alphabet[0:15]\n"
   ]
  },
  {
   "cell_type": "code",
   "execution_count": null,
   "metadata": {},
   "outputs": [],
   "source": [
    "L = len(alphabet)\n",
    "L\n"
   ]
  },
  {
   "cell_type": "code",
   "execution_count": null,
   "metadata": {},
   "outputs": [],
   "source": [
    "dicoEncodage = {}\n",
    "dicoDecodage = {}\n",
    "k = 0\n",
    "for c in alphabet:\n",
    "    dicoEncodage[c] = k\n",
    "    dicoDecodage[k] = c\n",
    "    k = k + 1\n",
    "\n",
    "print(f\"Longueur du dictionnaire d'encodage: {len(dicoEncodage)}\")\n",
    "print(f\"Longueur du dictionnaire de decodage: {len(dicoDecodage)}\")\n"
   ]
  },
  {
   "cell_type": "code",
   "execution_count": null,
   "metadata": {},
   "outputs": [],
   "source": [
    "print(dicoEncodage)\n",
    "print(dicoDecodage)\n"
   ]
  },
  {
   "attachments": {},
   "cell_type": "markdown",
   "metadata": {},
   "source": [
    "## 2."
   ]
  },
  {
   "cell_type": "code",
   "execution_count": null,
   "metadata": {},
   "outputs": [],
   "source": [
    "def EncodageBloc(bloc):\n",
    "    i = 0\n",
    "    L_puissance_i = 1\n",
    "\n",
    "    codageNum = 0\n",
    "\n",
    "    for i in range(0, len(bloc)):\n",
    "        char_i = bloc[i]\n",
    "        codageNum = codageNum + dicoEncodage[char_i] * L_puissance_i\n",
    "        L_puissance_i = L_puissance_i * L\n",
    "\n",
    "    return codageNum\n"
   ]
  },
  {
   "attachments": {},
   "cell_type": "markdown",
   "metadata": {},
   "source": [
    "L'invariant de boucle est :\n",
    "\n",
    "Au début du i-ième passage, $L\\_puissance\\_i = L^i$"
   ]
  },
  {
   "cell_type": "code",
   "execution_count": null,
   "metadata": {},
   "outputs": [],
   "source": [
    "bloc = \"Bonjour\\nComment allez-vous ?\"\n",
    "code = EncodageBloc(bloc)\n",
    "print(f'bloc: \"{bloc}\"')\n",
    "print(f\"code: {code}\")\n"
   ]
  },
  {
   "attachments": {},
   "cell_type": "markdown",
   "metadata": {},
   "source": [
    "## 3."
   ]
  },
  {
   "attachments": {},
   "cell_type": "markdown",
   "metadata": {},
   "source": [
    "On remarque que le reste par la division euclidienne de $code$ donne le code numérique du premier caractère."
   ]
  },
  {
   "cell_type": "code",
   "execution_count": null,
   "metadata": {},
   "outputs": [],
   "source": [
    "\"\"\" def LongueurDecodage(code):\n",
    "    puissanceMax = 0\n",
    "    while code > 0:\n",
    "        code = code // L\n",
    "        puissanceMax = puissanceMax + 1\n",
    "    return puissanceMax\n",
    " \"\"\"\n",
    "\n",
    "\n",
    "def DecodageCodeBloc(code):\n",
    "    bloc = \"\"\n",
    "\n",
    "    if code < 0:\n",
    "        raise ValueError(f\"code: {code} < 0 !\")\n",
    "    elif code == 0:\n",
    "        bloc = \"\\n\"\n",
    "    else:\n",
    "        i = 0\n",
    "        while code > 0:\n",
    "            codeChar = code % L\n",
    "            char = dicoDecodage[codeChar]\n",
    "            bloc = bloc + char\n",
    "            code = (code - codeChar) // L\n",
    "            i = i + 1\n",
    "\n",
    "    return bloc\n"
   ]
  },
  {
   "cell_type": "code",
   "execution_count": null,
   "metadata": {},
   "outputs": [],
   "source": [
    "bloc = \"Bonjour,\\nComment allez-vous ?\"\n",
    "code = EncodageBloc(bloc)\n",
    "print(f'Le bloc original est \"{bloc}\".\\nSon code associé est {code}.')\n",
    "\n",
    "blocDecode = DecodageCodeBloc(code)\n",
    "print(\n",
    "    f'Le décodage du code associé donne \"{blocDecode}\".\\nLes 2 blocs sont{\"\" if bloc == blocDecode else \" non\"} identiques.'\n",
    ")\n"
   ]
  },
  {
   "cell_type": "code",
   "execution_count": null,
   "metadata": {},
   "outputs": [],
   "source": [
    "def Encodage(message, l):\n",
    "    codes = []\n",
    "    for pas in range(0, len(message), l):\n",
    "        bloc = message[pas : pas + l]\n",
    "        code = EncodageBloc(bloc)\n",
    "        codes.append(code)\n",
    "    return codes\n",
    "\n",
    "\n",
    "def Decodage(codes):\n",
    "    message = \"\"\n",
    "    for code in codes:\n",
    "        bloc = DecodageCodeBloc(code)\n",
    "        message = message + bloc\n",
    "    return message\n",
    "\n",
    "\n",
    "bloc = \"Bonjour,\\nComment allez-vous ?\"\n",
    "l = 9\n",
    "blocDecode = Decodage(Encodage(bloc, l))\n",
    "print(bloc)\n",
    "print(blocDecode)\n",
    "print(bloc == blocDecode)\n"
   ]
  },
  {
   "attachments": {},
   "cell_type": "markdown",
   "metadata": {},
   "source": [
    "# Travail préparatoire : arithmétique et fonctions de base de la cryptographie"
   ]
  },
  {
   "attachments": {},
   "cell_type": "markdown",
   "metadata": {},
   "source": [
    "## 1. Algorithme d'Euclide en version récursive"
   ]
  },
  {
   "cell_type": "code",
   "execution_count": null,
   "metadata": {},
   "outputs": [],
   "source": [
    "def euclideRec(a, b):\n",
    "    # Retourne le PGCD de a et b\n",
    "    if b == 0:\n",
    "        return a\n",
    "    else:\n",
    "        return euclideRec(b, a % b)\n",
    "\n",
    "\n",
    "euclideRec(17, 10)\n"
   ]
  },
  {
   "attachments": {},
   "cell_type": "markdown",
   "metadata": {},
   "source": [
    "## 2. Algorithme d'Euclide étendu en version itérative"
   ]
  },
  {
   "cell_type": "code",
   "execution_count": null,
   "metadata": {},
   "outputs": [],
   "source": [
    "def EuclideEtendu(a, b):\n",
    "    # Retourne le PGCD de a et b, et les coefficients de Bézout\n",
    "\n",
    "    r0 = a\n",
    "    u0 = 1\n",
    "    v0 = 0\n",
    "\n",
    "    r1 = b\n",
    "    u1 = 0\n",
    "    v1 = 1\n",
    "\n",
    "    while r1 != 0:\n",
    "\n",
    "        q = r0 // r1\n",
    "\n",
    "        (r0, u0, v0, r1, u1, v1) = (r1, u1, v1, r0 - q * r1, u0 - q * u1, v0 - q * v1)\n",
    "\n",
    "    return r0, u0, v0\n",
    "\n",
    "\n",
    "print(EuclideEtendu(5, 17))\n"
   ]
  },
  {
   "attachments": {},
   "cell_type": "markdown",
   "metadata": {},
   "source": [
    "## 3. Inversion modulo"
   ]
  },
  {
   "cell_type": "code",
   "execution_count": null,
   "metadata": {},
   "outputs": [],
   "source": [
    "def InverseModulo(x, n):\n",
    "\n",
    "    r0 = n\n",
    "    v0 = 0\n",
    "\n",
    "    r1 = x\n",
    "    v1 = 1\n",
    "\n",
    "    while r1 != 0:\n",
    "        q = r0 // r1\n",
    "        (r0, v0, r1, v1) = (r1, v1, r0 - q * r1, v0 - q * v1)\n",
    "\n",
    "    if r0 != 1:\n",
    "        raise ValueError(\"x n'est pas inversible modulo n\")\n",
    "    else:\n",
    "        return v0\n",
    "\n",
    "\n",
    "InverseModulo(3, 11)\n"
   ]
  },
  {
   "attachments": {},
   "cell_type": "markdown",
   "metadata": {},
   "source": [
    "## 4. Théorème des restes chinois"
   ]
  },
  {
   "cell_type": "code",
   "execution_count": null,
   "metadata": {},
   "outputs": [],
   "source": [
    "def RestesChinois(a, m):\n",
    "    # a : reste\n",
    "    # m : longueur des rangs\n",
    "\n",
    "    p = 1\n",
    "    for n in m:\n",
    "        p = p * n\n",
    "    s = 0\n",
    "\n",
    "    for i in range(len(a)):\n",
    "        mIp = p // m[i]\n",
    "        mIpInv = InverseModulo(mIp, m[i])\n",
    "        s = s + a[i] * mIp * mIpInv\n",
    "\n",
    "    return s % p\n",
    "\n",
    "\n",
    "print(RestesChinois([3, 1, 2, 6, 0], [5, 8, 9, 11, 13]))\n"
   ]
  },
  {
   "attachments": {},
   "cell_type": "markdown",
   "metadata": {},
   "source": [
    "## 5. Exponentiation modulaire rapide"
   ]
  },
  {
   "cell_type": "code",
   "execution_count": null,
   "metadata": {},
   "outputs": [],
   "source": [
    "def ExpoModRapide(x, y, n):\n",
    "    # x^y mod n\n",
    "    res = 1\n",
    "\n",
    "    while y > 0:\n",
    "        if y & 1 > 0:\n",
    "            res = (res * x) % n\n",
    "        y >>= 1\n",
    "        x = (x * x) % n\n",
    "\n",
    "    return res\n",
    "\n",
    "\n",
    "ExpoModRapide(4, 13, 497)\n"
   ]
  }
 ],
 "metadata": {
  "kernelspec": {
   "display_name": "job",
   "language": "python",
   "name": "python3"
  },
  "language_info": {
   "codemirror_mode": {
    "name": "ipython",
    "version": 3
   },
   "file_extension": ".py",
   "mimetype": "text/x-python",
   "name": "python",
   "nbconvert_exporter": "python",
   "pygments_lexer": "ipython3",
   "version": "3.9.13 (tags/v3.9.13:6de2ca5, May 17 2022, 16:36:42) [MSC v.1929 64 bit (AMD64)]"
  },
  "orig_nbformat": 4,
  "vscode": {
   "interpreter": {
    "hash": "67157afc8505a680d421efe3cbb450276a0de5e67a96df289648d7b6156139dc"
   }
  }
 },
 "nbformat": 4,
 "nbformat_minor": 2
}
