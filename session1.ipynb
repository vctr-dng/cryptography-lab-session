{
 "cells": [
  {
   "cell_type": "code",
   "execution_count": 1,
   "metadata": {},
   "outputs": [],
   "source": [
    "import random\n",
    "from math import *\n"
   ]
  },
  {
   "attachments": {},
   "cell_type": "markdown",
   "metadata": {},
   "source": [
    "# 1 Travail prépapratoire : codage numérique du texte clair"
   ]
  },
  {
   "attachments": {},
   "cell_type": "markdown",
   "metadata": {},
   "source": [
    "## 1."
   ]
  },
  {
   "cell_type": "code",
   "execution_count": 2,
   "metadata": {},
   "outputs": [],
   "source": [
    "alphabet = \"\\n abcdefghijklmnopqrstuvwxyzABCDEFGHIJKLMNOPQRSTUVWXYZ.;:,!?'àâäéèêëîïôöùûüç()[]{}|\\°@%&§#$£_+-*/^=><0123456789\"\n"
   ]
  },
  {
   "cell_type": "code",
   "execution_count": 3,
   "metadata": {},
   "outputs": [
    {
     "name": "stdout",
     "output_type": "stream",
     "text": [
      "Le premier caractère de l'alphabet est \n",
      "\n"
     ]
    }
   ],
   "source": [
    "print(f\"Le premier caractère de l'alphabet est {alphabet[0]}\")\n"
   ]
  },
  {
   "cell_type": "code",
   "execution_count": 4,
   "metadata": {},
   "outputs": [
    {
     "name": "stdout",
     "output_type": "stream",
     "text": [
      "Les 15 premièrs caractères de l'alphabet sont \n",
      " abcdefghijklm\n"
     ]
    }
   ],
   "source": [
    "print(f\"Les 15 premièrs caractères de l'alphabet sont {alphabet[0:15]}\")\n"
   ]
  },
  {
   "cell_type": "code",
   "execution_count": 5,
   "metadata": {},
   "outputs": [
    {
     "name": "stdout",
     "output_type": "stream",
     "text": [
      "La longueur de l'alphabet est 112\n"
     ]
    }
   ],
   "source": [
    "L = len(alphabet)\n",
    "print(f\"La longueur de l'alphabet est {L}\")\n"
   ]
  },
  {
   "cell_type": "code",
   "execution_count": 6,
   "metadata": {},
   "outputs": [
    {
     "name": "stdout",
     "output_type": "stream",
     "text": [
      "Longueur du dictionnaire d'encodage: 112\n",
      "Longueur du dictionnaire de decodage: 112\n"
     ]
    }
   ],
   "source": [
    "dicoEncodage = {}\n",
    "dicoDecodage = {}\n",
    "k = 0\n",
    "for c in alphabet:\n",
    "    dicoEncodage[c] = k\n",
    "    dicoDecodage[k] = c\n",
    "    k = k + 1\n",
    "\n",
    "print(f\"Longueur du dictionnaire d'encodage: {len(dicoEncodage)}\")\n",
    "print(f\"Longueur du dictionnaire de decodage: {len(dicoDecodage)}\")\n"
   ]
  },
  {
   "cell_type": "code",
   "execution_count": 7,
   "metadata": {},
   "outputs": [
    {
     "name": "stdout",
     "output_type": "stream",
     "text": [
      "{'\\n': 0, ' ': 1, 'a': 2, 'b': 3, 'c': 4, 'd': 5, 'e': 6, 'f': 7, 'g': 8, 'h': 9, 'i': 10, 'j': 11, 'k': 12, 'l': 13, 'm': 14, 'n': 15, 'o': 16, 'p': 17, 'q': 18, 'r': 19, 's': 20, 't': 21, 'u': 22, 'v': 23, 'w': 24, 'x': 25, 'y': 26, 'z': 27, 'A': 28, 'B': 29, 'C': 30, 'D': 31, 'E': 32, 'F': 33, 'G': 34, 'H': 35, 'I': 36, 'J': 37, 'K': 38, 'L': 39, 'M': 40, 'N': 41, 'O': 42, 'P': 43, 'Q': 44, 'R': 45, 'S': 46, 'T': 47, 'U': 48, 'V': 49, 'W': 50, 'X': 51, 'Y': 52, 'Z': 53, '.': 54, ';': 55, ':': 56, ',': 57, '!': 58, '?': 59, \"'\": 60, 'à': 61, 'â': 62, 'ä': 63, 'é': 64, 'è': 65, 'ê': 66, 'ë': 67, 'î': 68, 'ï': 69, 'ô': 70, 'ö': 71, 'ù': 72, 'û': 73, 'ü': 74, 'ç': 75, '(': 76, ')': 77, '[': 78, ']': 79, '{': 80, '}': 81, '|': 82, '\\\\': 83, '°': 84, '@': 85, '%': 86, '&': 87, '§': 88, '#': 89, '$': 90, '\\x80': 91, '£': 92, '_': 93, '+': 94, '-': 95, '*': 96, '/': 97, '^': 98, '=': 99, '>': 100, '<': 101, '0': 102, '1': 103, '2': 104, '3': 105, '4': 106, '5': 107, '6': 108, '7': 109, '8': 110, '9': 111}\n",
      "{0: '\\n', 1: ' ', 2: 'a', 3: 'b', 4: 'c', 5: 'd', 6: 'e', 7: 'f', 8: 'g', 9: 'h', 10: 'i', 11: 'j', 12: 'k', 13: 'l', 14: 'm', 15: 'n', 16: 'o', 17: 'p', 18: 'q', 19: 'r', 20: 's', 21: 't', 22: 'u', 23: 'v', 24: 'w', 25: 'x', 26: 'y', 27: 'z', 28: 'A', 29: 'B', 30: 'C', 31: 'D', 32: 'E', 33: 'F', 34: 'G', 35: 'H', 36: 'I', 37: 'J', 38: 'K', 39: 'L', 40: 'M', 41: 'N', 42: 'O', 43: 'P', 44: 'Q', 45: 'R', 46: 'S', 47: 'T', 48: 'U', 49: 'V', 50: 'W', 51: 'X', 52: 'Y', 53: 'Z', 54: '.', 55: ';', 56: ':', 57: ',', 58: '!', 59: '?', 60: \"'\", 61: 'à', 62: 'â', 63: 'ä', 64: 'é', 65: 'è', 66: 'ê', 67: 'ë', 68: 'î', 69: 'ï', 70: 'ô', 71: 'ö', 72: 'ù', 73: 'û', 74: 'ü', 75: 'ç', 76: '(', 77: ')', 78: '[', 79: ']', 80: '{', 81: '}', 82: '|', 83: '\\\\', 84: '°', 85: '@', 86: '%', 87: '&', 88: '§', 89: '#', 90: '$', 91: '\\x80', 92: '£', 93: '_', 94: '+', 95: '-', 96: '*', 97: '/', 98: '^', 99: '=', 100: '>', 101: '<', 102: '0', 103: '1', 104: '2', 105: '3', 106: '4', 107: '5', 108: '6', 109: '7', 110: '8', 111: '9'}\n"
     ]
    }
   ],
   "source": [
    "print(dicoEncodage)\n",
    "print(dicoDecodage)\n"
   ]
  },
  {
   "attachments": {},
   "cell_type": "markdown",
   "metadata": {},
   "source": [
    "## 2."
   ]
  },
  {
   "cell_type": "code",
   "execution_count": 8,
   "metadata": {},
   "outputs": [],
   "source": [
    "def EncodageBloc(bloc):\n",
    "    i = 0\n",
    "    L_puissance_i = 1\n",
    "\n",
    "    codageNum = 0\n",
    "\n",
    "    for i in range(0, len(bloc)):\n",
    "        char_i = bloc[i]\n",
    "        codageNum = codageNum + dicoEncodage[char_i] * L_puissance_i\n",
    "        L_puissance_i = L_puissance_i * L\n",
    "\n",
    "    return codageNum\n"
   ]
  },
  {
   "attachments": {},
   "cell_type": "markdown",
   "metadata": {},
   "source": [
    "L'invariant de boucle est :\n",
    "\n",
    "Au début du i-ième passage, $L\\_puissance\\_i = L^i$"
   ]
  },
  {
   "cell_type": "code",
   "execution_count": 9,
   "metadata": {},
   "outputs": [
    {
     "name": "stdout",
     "output_type": "stream",
     "text": [
      "bloc: \"Bonjour\n",
      "Comment allez-vous ?\n",
      "Cordialement\"\n",
      "code: 196657800147092496254034076989284086434674682182748345540635854131215029158264354333\n"
     ]
    }
   ],
   "source": [
    "bloc = \"Bonjour\\nComment allez-vous ?\\nCordialement\"\n",
    "code = EncodageBloc(bloc)\n",
    "print(f'bloc: \"{bloc}\"')\n",
    "print(f\"code: {code}\")\n"
   ]
  },
  {
   "attachments": {},
   "cell_type": "markdown",
   "metadata": {},
   "source": [
    "## 3."
   ]
  },
  {
   "attachments": {},
   "cell_type": "markdown",
   "metadata": {},
   "source": [
    "On remarque que le reste par la division euclidienne de $code$ donne le code numérique du premier caractère.\n",
    "\n",
    "Posons $code = \\displaystyle\\sum_{i=0}^{n-1} c(b_i) L^i$ où $c(b_i) \\in \\llbracket 0; L-1 \\rrbracket$\n",
    "\n",
    "$code = c(b_0) L^0 + c(b_1) L^1 + ... + c(b_{n-1}) L^{n-1}$\n",
    "\n",
    "$code = c(b_0) + c(b_1) L^1 + ... + c(b_{n-1}) L^{n-1}$\n",
    "\n",
    "Ainsi le reste de la division euclidienne de $code$ par L est : $c(b_0)$\n",
    "\n",
    "Posons $code' = \\frac{(code - c(b_0))}{L}$\n",
    "\n",
    "$code' = \\displaystyle\\sum_{i=1}^{n-1} \\frac{c(b_i) L^i}{L}$\n",
    "\n",
    "$code' = \\displaystyle\\sum_{i=1}^{n-1} c(b_i) L^{i-1}$\n",
    "\n",
    "$code' = \\displaystyle\\sum_{i=0}^{n-2} c(b_i) L^{i}$\n",
    "\n",
    "On réitère alors le procédé, on remarque que ce système de codage possède un effet de bord, si le caractère de code numérique est présent (plusieurs fois) à la fin du bloc, celui-ci ne sera pas retranscrit."
   ]
  },
  {
   "cell_type": "code",
   "execution_count": 10,
   "metadata": {},
   "outputs": [],
   "source": [
    "\"\"\" def LongueurDecodage(code):\n",
    "    puissanceMax = 0\n",
    "    while code > 0:\n",
    "        code = code // L\n",
    "        puissanceMax = puissanceMax + 1\n",
    "    return puissanceMax\n",
    " \"\"\"\n",
    "\n",
    "\n",
    "def DecodageCodeBloc(code):\n",
    "    bloc = \"\"\n",
    "\n",
    "    if code < 0:\n",
    "        raise ValueError(f\"code: {code} < 0 !\")\n",
    "    elif code == 0:\n",
    "        bloc = \"\\n\"\n",
    "    else:\n",
    "        i = 0\n",
    "        while code > 0:\n",
    "            codeChar = code % L\n",
    "            char = dicoDecodage[codeChar]\n",
    "            bloc = bloc + char\n",
    "            code = (code - codeChar) // L\n",
    "            i = i + 1\n",
    "\n",
    "    return bloc\n"
   ]
  },
  {
   "cell_type": "code",
   "execution_count": 11,
   "metadata": {},
   "outputs": [
    {
     "name": "stdout",
     "output_type": "stream",
     "text": [
      "Le bloc original est:\n",
      "Bonjour\n",
      "Comment allez-vous ?\n",
      "Cordialement.\n",
      "Son code associé est 196657800147092496254034076989284086434674682182748345540635854131215029158264354333.\n",
      "Le décodage du code associé donne:\n",
      "Bonjour\n",
      "Comment allez-vous ?\n",
      "Cordialement.\n",
      "Les 2 blocs sont identiques.\n"
     ]
    }
   ],
   "source": [
    "bloc = \"Bonjour\\nComment allez-vous ?\\nCordialement\"\n",
    "code = EncodageBloc(bloc)\n",
    "print(f\"Le bloc original est:\\n{bloc}.\\nSon code associé est {code}.\")\n",
    "\n",
    "blocDecode = DecodageCodeBloc(code)\n",
    "print(\n",
    "    f\"Le décodage du code associé donne:\\n{blocDecode}.\\nLes 2 blocs sont{'' if bloc == blocDecode else ' non'} identiques.\"\n",
    ")\n"
   ]
  },
  {
   "cell_type": "code",
   "execution_count": 12,
   "metadata": {},
   "outputs": [
    {
     "name": "stdout",
     "output_type": "stream",
     "text": [
      "Le message original est :\n",
      "Epigraphe du Gai Savoir\n",
      "Je vis dans ma propre maison\n",
      "De personne jamais ne fus contrefaçon\n",
      "Et de tout maître j'ai bien ri\n",
      "Qui ne sait pas rire de lui.\n",
      "(Inscrit sur ma porte d'entrée)\n",
      "Le message encodé par segment de 9 est :\n",
      "[150580997077889424, 1139183908061685809, 26159075050682898, 29210637953288311, 152791925225660910, 767578477127452705, 374742435184959862, 29200770257320822, 397040710532744111, 375079639754427455, 400798619514340096, 152800734254881350, 150774412653650129, 27014512714056575, 421176434964231087, 124031406336739778, 908148875431517558, 549135607114374351, 524184442617368195, 1588858443158861174, 8630]\n",
      "Le décodage du code associé est:\n",
      "Bonjour\n",
      "Comment allez-vous ?\n",
      "Cordialement.\n",
      "Les 2 blocs sont identiques.\n"
     ]
    }
   ],
   "source": [
    "def Encodage(message, l):\n",
    "    codes = []\n",
    "    for pas in range(0, len(message), l):\n",
    "        bloc = message[pas : pas + l]\n",
    "        code = EncodageBloc(bloc)\n",
    "        codes.append(code)\n",
    "    return codes\n",
    "\n",
    "\n",
    "def Decodage(codes):\n",
    "    message = \"\"\n",
    "    for code in codes:\n",
    "        bloc = DecodageCodeBloc(code)\n",
    "        message = message + bloc\n",
    "    return message\n",
    "\n",
    "\n",
    "message = \"Epigraphe du Gai Savoir\\nJe vis dans ma propre maison\\nDe personne jamais ne fus contrefaçon\\nEt de tout maître j'ai bien ri\\nQui ne sait pas rire de lui.\\n(Inscrit sur ma porte d'entrée)\"\n",
    "\n",
    "l = 9\n",
    "print(f\"Le message original est :\\n{message}\")\n",
    "messageEncode = Encodage(message, l)\n",
    "print(f\"Le message encodé par segment de {l} est :\\n{messageEncode}\")\n",
    "messageDecode = Decodage(messageEncode)\n",
    "print(\n",
    "    f'Le décodage du code associé est:\\n{blocDecode}.\\nLes 2 blocs sont{\"\" if message == messageDecode else \" non\"} identiques.'\n",
    ")\n"
   ]
  },
  {
   "attachments": {},
   "cell_type": "markdown",
   "metadata": {},
   "source": [
    "# Travail préparatoire : arithmétique et fonctions de base de la cryptographie"
   ]
  },
  {
   "attachments": {},
   "cell_type": "markdown",
   "metadata": {},
   "source": [
    "## 1. Algorithme d'Euclide en version récursive"
   ]
  },
  {
   "cell_type": "code",
   "execution_count": 13,
   "metadata": {},
   "outputs": [
    {
     "data": {
      "text/plain": [
       "1"
      ]
     },
     "execution_count": 13,
     "metadata": {},
     "output_type": "execute_result"
    }
   ],
   "source": [
    "def euclideRec(a, b):\n",
    "    # Retourne le PGCD de a et b\n",
    "    if b == 0:\n",
    "        return a\n",
    "    else:\n",
    "        return euclideRec(b, a % b)\n",
    "\n",
    "\n",
    "euclideRec(17, 10)\n"
   ]
  },
  {
   "attachments": {},
   "cell_type": "markdown",
   "metadata": {},
   "source": [
    "## 2. Algorithme d'Euclide étendu en version itérative"
   ]
  },
  {
   "cell_type": "code",
   "execution_count": 14,
   "metadata": {},
   "outputs": [
    {
     "name": "stdout",
     "output_type": "stream",
     "text": [
      "(1, 7, -2)\n"
     ]
    }
   ],
   "source": [
    "def EuclideEtendu(a, b):\n",
    "    # Retourne le PGCD de a et b, et les coefficients de Bézout\n",
    "\n",
    "    r0 = a\n",
    "    u0 = 1\n",
    "    v0 = 0\n",
    "\n",
    "    r1 = b\n",
    "    u1 = 0\n",
    "    v1 = 1\n",
    "\n",
    "    while r1 != 0:\n",
    "        q = r0 // r1\n",
    "\n",
    "        (r0, u0, v0, r1, u1, v1) = (r1, u1, v1, r0 - q * r1, u0 - q * u1, v0 - q * v1)\n",
    "\n",
    "    return r0, u0, v0\n",
    "\n",
    "\n",
    "print(EuclideEtendu(5, 17))\n"
   ]
  },
  {
   "attachments": {},
   "cell_type": "markdown",
   "metadata": {},
   "source": [
    "## 3. Inversion modulo"
   ]
  },
  {
   "cell_type": "code",
   "execution_count": 15,
   "metadata": {},
   "outputs": [
    {
     "data": {
      "text/plain": [
       "4"
      ]
     },
     "execution_count": 15,
     "metadata": {},
     "output_type": "execute_result"
    }
   ],
   "source": [
    "def InverseModulo(x, n):\n",
    "    r0 = n\n",
    "    v0 = 0\n",
    "\n",
    "    r1 = x\n",
    "    v1 = 1\n",
    "\n",
    "    while r1 != 0:\n",
    "        q = r0 // r1\n",
    "        (r0, v0, r1, v1) = (r1, v1, r0 - q * r1, v0 - q * v1)\n",
    "\n",
    "    if r0 != 1:\n",
    "        raise ValueError(\"x n'est pas inversible modulo n\")\n",
    "    else:\n",
    "        return v0\n",
    "\n",
    "\n",
    "InverseModulo(3, 11)\n"
   ]
  },
  {
   "attachments": {},
   "cell_type": "markdown",
   "metadata": {},
   "source": [
    "## 4. Théorème des restes chinois"
   ]
  },
  {
   "cell_type": "code",
   "execution_count": 16,
   "metadata": {},
   "outputs": [
    {
     "name": "stdout",
     "output_type": "stream",
     "text": [
      "16913\n"
     ]
    }
   ],
   "source": [
    "def RestesChinois(a, m):\n",
    "    # a : reste\n",
    "    # m : longueur des rangs\n",
    "\n",
    "    p = 1\n",
    "    for n in m:\n",
    "        p = p * n\n",
    "    s = 0\n",
    "\n",
    "    for i in range(len(a)):\n",
    "        mIp = p // m[i]\n",
    "        mIpInv = InverseModulo(mIp, m[i])\n",
    "        s = s + a[i] * mIp * mIpInv\n",
    "\n",
    "    return s % p\n",
    "\n",
    "\n",
    "print(RestesChinois([3, 1, 2, 6, 0], [5, 8, 9, 11, 13]))\n"
   ]
  },
  {
   "attachments": {},
   "cell_type": "markdown",
   "metadata": {},
   "source": [
    "## 5. Exponentiation modulaire rapide"
   ]
  },
  {
   "cell_type": "code",
   "execution_count": 17,
   "metadata": {},
   "outputs": [
    {
     "data": {
      "text/plain": [
       "445"
      ]
     },
     "execution_count": 17,
     "metadata": {},
     "output_type": "execute_result"
    }
   ],
   "source": [
    "def ExpoModRapide(x, y, n):\n",
    "    # x^y mod n\n",
    "    res = 1\n",
    "\n",
    "    while y > 0:\n",
    "        if y & 1 > 0:\n",
    "            res = (res * x) % n\n",
    "        y >>= 1\n",
    "        x = (x * x) % n\n",
    "\n",
    "    return res\n",
    "\n",
    "\n",
    "ExpoModRapide(4, 13, 497)\n"
   ]
  }
 ],
 "metadata": {
  "kernelspec": {
   "display_name": "Python 3.9.16 ('quadrilateral')",
   "language": "python",
   "name": "python3"
  },
  "language_info": {
   "codemirror_mode": {
    "name": "ipython",
    "version": 3
   },
   "file_extension": ".py",
   "mimetype": "text/x-python",
   "name": "python",
   "nbconvert_exporter": "python",
   "pygments_lexer": "ipython3",
   "version": "3.9.16"
  },
  "orig_nbformat": 4,
  "vscode": {
   "interpreter": {
    "hash": "e5c7c5642964c706d0ae0da76cb2567307280c45f8d194c6ce553633a16978a1"
   }
  }
 },
 "nbformat": 4,
 "nbformat_minor": 2
}
